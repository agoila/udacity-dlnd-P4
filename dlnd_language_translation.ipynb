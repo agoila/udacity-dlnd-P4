{
 "cells": [
  {
   "cell_type": "markdown",
   "metadata": {
    "collapsed": true
   },
   "source": [
    "# Language Translation\n",
    "In this project, you’re going to take a peek into the realm of neural network machine translation.  You’ll be training a sequence to sequence model on a dataset of English and French sentences that can translate new sentences from English to French.\n",
    "## Get the Data\n",
    "Since translating the whole language of English to French will take lots of time to train, we have provided you with a small portion of the English corpus."
   ]
  },
  {
   "cell_type": "code",
   "execution_count": 1,
   "metadata": {
    "collapsed": true
   },
   "outputs": [],
   "source": [
    "\"\"\"\n",
    "DON'T MODIFY ANYTHING IN THIS CELL\n",
    "\"\"\"\n",
    "import helper\n",
    "import problem_unittests as tests\n",
    "\n",
    "source_path = 'data/small_vocab_en'\n",
    "target_path = 'data/small_vocab_fr'\n",
    "source_text = helper.load_data(source_path)\n",
    "target_text = helper.load_data(target_path)"
   ]
  },
  {
   "cell_type": "markdown",
   "metadata": {},
   "source": [
    "## Explore the Data\n",
    "Play around with view_sentence_range to view different parts of the data."
   ]
  },
  {
   "cell_type": "code",
   "execution_count": 2,
   "metadata": {
    "collapsed": false
   },
   "outputs": [
    {
     "name": "stdout",
     "output_type": "stream",
     "text": [
      "Dataset Stats\n",
      "Roughly the number of unique words: 227\n",
      "Number of sentences: 137861\n",
      "Average number of words in a sentence: 13.225277634719028\n",
      "\n",
      "English sentences 0 to 10:\n",
      "new jersey is sometimes quiet during autumn , and it is snowy in april .\n",
      "the united states is usually chilly during july , and it is usually freezing in november .\n",
      "california is usually quiet during march , and it is usually hot in june .\n",
      "the united states is sometimes mild during june , and it is cold in september .\n",
      "your least liked fruit is the grape , but my least liked is the apple .\n",
      "his favorite fruit is the orange , but my favorite is the grape .\n",
      "paris is relaxing during december , but it is usually chilly in july .\n",
      "new jersey is busy during spring , and it is never hot in march .\n",
      "our least liked fruit is the lemon , but my least liked is the grape .\n",
      "the united states is sometimes busy during january , and it is sometimes warm in november .\n",
      "\n",
      "French sentences 0 to 10:\n",
      "new jersey est parfois calme pendant l' automne , et il est neigeux en avril .\n",
      "les états-unis est généralement froid en juillet , et il gèle habituellement en novembre .\n",
      "california est généralement calme en mars , et il est généralement chaud en juin .\n",
      "les états-unis est parfois légère en juin , et il fait froid en septembre .\n",
      "votre moins aimé fruit est le raisin , mais mon moins aimé est la pomme .\n",
      "son fruit préféré est l'orange , mais mon préféré est le raisin .\n",
      "paris est relaxant en décembre , mais il est généralement froid en juillet .\n",
      "new jersey est occupé au printemps , et il est jamais chaude en mars .\n",
      "notre fruit est moins aimé le citron , mais mon moins aimé est le raisin .\n",
      "les états-unis est parfois occupé en janvier , et il est parfois chaud en novembre .\n"
     ]
    }
   ],
   "source": [
    "view_sentence_range = (0, 10)\n",
    "\n",
    "\"\"\"\n",
    "DON'T MODIFY ANYTHING IN THIS CELL\n",
    "\"\"\"\n",
    "import numpy as np\n",
    "\n",
    "print('Dataset Stats')\n",
    "print('Roughly the number of unique words: {}'.format(len({word: None for word in source_text.split()})))\n",
    "\n",
    "sentences = source_text.split('\\n')\n",
    "word_counts = [len(sentence.split()) for sentence in sentences]\n",
    "print('Number of sentences: {}'.format(len(sentences)))\n",
    "print('Average number of words in a sentence: {}'.format(np.average(word_counts)))\n",
    "\n",
    "print()\n",
    "print('English sentences {} to {}:'.format(*view_sentence_range))\n",
    "print('\\n'.join(source_text.split('\\n')[view_sentence_range[0]:view_sentence_range[1]]))\n",
    "print()\n",
    "print('French sentences {} to {}:'.format(*view_sentence_range))\n",
    "print('\\n'.join(target_text.split('\\n')[view_sentence_range[0]:view_sentence_range[1]]))"
   ]
  },
  {
   "cell_type": "markdown",
   "metadata": {},
   "source": [
    "## Implement Preprocessing Function\n",
    "### Text to Word Ids\n",
    "As you did with other RNNs, you must turn the text into a number so the computer can understand it. In the function `text_to_ids()`, you'll turn `source_text` and `target_text` from words to ids.  However, you need to add the `<EOS>` word id at the end of `target_text`.  This will help the neural network predict when the sentence should end.\n",
    "\n",
    "You can get the `<EOS>` word id by doing:\n",
    "```python\n",
    "target_vocab_to_int['<EOS>']\n",
    "```\n",
    "You can get other word ids using `source_vocab_to_int` and `target_vocab_to_int`."
   ]
  },
  {
   "cell_type": "code",
   "execution_count": 3,
   "metadata": {
    "collapsed": false
   },
   "outputs": [
    {
     "name": "stdout",
     "output_type": "stream",
     "text": [
      "Tests Passed\n"
     ]
    }
   ],
   "source": [
    "def text_to_ids(source_text, target_text, source_vocab_to_int, target_vocab_to_int):\n",
    "    \"\"\"\n",
    "    Convert source and target text to proper word ids\n",
    "    :param source_text: String that contains all the source text.\n",
    "    :param target_text: String that contains all the target text.\n",
    "    :param source_vocab_to_int: Dictionary to go from the source words to an id\n",
    "    :param target_vocab_to_int: Dictionary to go from the target words to an id\n",
    "    :return: A tuple of lists (source_id_text, target_id_text)\n",
    "    \"\"\"\n",
    "    # TODO: Implement Function\n",
    "    # Convert characters to ids\n",
    "    source_id_text = [[source_vocab_to_int.get(word) for word in line.split()] for line in source_text.split('\\n')]\n",
    "    target_id_text = [[target_vocab_to_int.get(word) for word in line.split()] \\\n",
    "                       + [target_vocab_to_int['<EOS>']] for line in target_text.split('\\n')] \n",
    "    \n",
    "    return (source_id_text, target_id_text)\n",
    "\n",
    "\"\"\"\n",
    "DON'T MODIFY ANYTHING IN THIS CELL THAT IS BELOW THIS LINE\n",
    "\"\"\"\n",
    "tests.test_text_to_ids(text_to_ids)"
   ]
  },
  {
   "cell_type": "markdown",
   "metadata": {},
   "source": [
    "### Preprocess all the data and save it\n",
    "Running the code cell below will preprocess all the data and save it to file."
   ]
  },
  {
   "cell_type": "code",
   "execution_count": 4,
   "metadata": {
    "collapsed": true
   },
   "outputs": [],
   "source": [
    "\"\"\"\n",
    "DON'T MODIFY ANYTHING IN THIS CELL\n",
    "\"\"\"\n",
    "helper.preprocess_and_save_data(source_path, target_path, text_to_ids)"
   ]
  },
  {
   "cell_type": "markdown",
   "metadata": {},
   "source": [
    "# Check Point\n",
    "This is your first checkpoint. If you ever decide to come back to this notebook or have to restart the notebook, you can start from here. The preprocessed data has been saved to disk."
   ]
  },
  {
   "cell_type": "code",
   "execution_count": 5,
   "metadata": {
    "collapsed": true
   },
   "outputs": [],
   "source": [
    "\"\"\"\n",
    "DON'T MODIFY ANYTHING IN THIS CELL\n",
    "\"\"\"\n",
    "import numpy as np\n",
    "import helper\n",
    "import problem_unittests as tests\n",
    "\n",
    "(source_int_text, target_int_text), (source_vocab_to_int, target_vocab_to_int), _ = helper.load_preprocess()"
   ]
  },
  {
   "cell_type": "markdown",
   "metadata": {},
   "source": [
    "### Check the Version of TensorFlow and Access to GPU\n",
    "This will check to make sure you have the correct version of TensorFlow and access to a GPU"
   ]
  },
  {
   "cell_type": "code",
   "execution_count": 6,
   "metadata": {
    "collapsed": false
   },
   "outputs": [
    {
     "name": "stdout",
     "output_type": "stream",
     "text": [
      "TensorFlow Version: 1.2.0\n",
      "Default GPU Device: /gpu:0\n"
     ]
    }
   ],
   "source": [
    "\"\"\"\n",
    "DON'T MODIFY ANYTHING IN THIS CELL\n",
    "\"\"\"\n",
    "from distutils.version import LooseVersion\n",
    "import warnings\n",
    "import tensorflow as tf\n",
    "from tensorflow.python.layers.core import Dense\n",
    "\n",
    "# Check TensorFlow Version\n",
    "assert LooseVersion(tf.__version__) >= LooseVersion('1.1'), 'Please use TensorFlow version 1.1 or newer'\n",
    "print('TensorFlow Version: {}'.format(tf.__version__))\n",
    "\n",
    "# Check for a GPU\n",
    "if not tf.test.gpu_device_name():\n",
    "    warnings.warn('No GPU found. Please use a GPU to train your neural network.')\n",
    "else:\n",
    "    print('Default GPU Device: {}'.format(tf.test.gpu_device_name()))"
   ]
  },
  {
   "cell_type": "markdown",
   "metadata": {},
   "source": [
    "## Build the Neural Network\n",
    "You'll build the components necessary to build a Sequence-to-Sequence model by implementing the following functions below:\n",
    "- `model_inputs`\n",
    "- `process_decoder_input`\n",
    "- `encoding_layer`\n",
    "- `decoding_layer_train`\n",
    "- `decoding_layer_infer`\n",
    "- `decoding_layer`\n",
    "- `seq2seq_model`\n",
    "\n",
    "### Input\n",
    "Implement the `model_inputs()` function to create TF Placeholders for the Neural Network. It should create the following placeholders:\n",
    "\n",
    "- Input text placeholder named \"input\" using the TF Placeholder name parameter with rank 2.\n",
    "- Targets placeholder with rank 2.\n",
    "- Learning rate placeholder with rank 0.\n",
    "- Keep probability placeholder named \"keep_prob\" using the TF Placeholder name parameter with rank 0.\n",
    "- Target sequence length placeholder named \"target_sequence_length\" with rank 1\n",
    "- Max target sequence length tensor named \"max_target_len\" getting its value from applying tf.reduce_max on the target_sequence_length placeholder. Rank 0.\n",
    "- Source sequence length placeholder named \"source_sequence_length\" with rank 1\n",
    "\n",
    "Return the placeholders in the following the tuple (input, targets, learning rate, keep probability, target sequence length, max target sequence length, source sequence length)"
   ]
  },
  {
   "cell_type": "code",
   "execution_count": 32,
   "metadata": {
    "collapsed": false
   },
   "outputs": [
    {
     "name": "stdout",
     "output_type": "stream",
     "text": [
      "ERROR:tensorflow:==================================\n",
      "Object was never used (type <class 'tensorflow.python.framework.ops.Operation'>):\n",
      "<tf.Operation 'assert_rank_2/Assert/Assert' type=Assert>\n",
      "If you want to mark it as used call its \"mark_used()\" method.\n",
      "It was originally created here:\n",
      "['File \"C:\\\\Users\\\\agoil\\\\Anaconda3\\\\envs\\\\dlnd\\\\lib\\\\runpy.py\", line 193, in _run_module_as_main\\n    \"__main__\", mod_spec)', 'File \"C:\\\\Users\\\\agoil\\\\Anaconda3\\\\envs\\\\dlnd\\\\lib\\\\runpy.py\", line 85, in _run_code\\n    exec(code, run_globals)', 'File \"C:\\\\Users\\\\agoil\\\\Anaconda3\\\\envs\\\\dlnd\\\\lib\\\\site-packages\\\\ipykernel\\\\__main__.py\", line 3, in <module>\\n    app.launch_new_instance()', 'File \"C:\\\\Users\\\\agoil\\\\Anaconda3\\\\envs\\\\dlnd\\\\lib\\\\site-packages\\\\traitlets\\\\config\\\\application.py\", line 658, in launch_instance\\n    app.start()', 'File \"C:\\\\Users\\\\agoil\\\\Anaconda3\\\\envs\\\\dlnd\\\\lib\\\\site-packages\\\\ipykernel\\\\kernelapp.py\", line 474, in start\\n    ioloop.IOLoop.instance().start()', 'File \"C:\\\\Users\\\\agoil\\\\Anaconda3\\\\envs\\\\dlnd\\\\lib\\\\site-packages\\\\zmq\\\\eventloop\\\\ioloop.py\", line 177, in start\\n    super(ZMQIOLoop, self).start()', 'File \"C:\\\\Users\\\\agoil\\\\Anaconda3\\\\envs\\\\dlnd\\\\lib\\\\site-packages\\\\tornado\\\\ioloop.py\", line 887, in start\\n    handler_func(fd_obj, events)', 'File \"C:\\\\Users\\\\agoil\\\\Anaconda3\\\\envs\\\\dlnd\\\\lib\\\\site-packages\\\\tornado\\\\stack_context.py\", line 275, in null_wrapper\\n    return fn(*args, **kwargs)', 'File \"C:\\\\Users\\\\agoil\\\\Anaconda3\\\\envs\\\\dlnd\\\\lib\\\\site-packages\\\\zmq\\\\eventloop\\\\zmqstream.py\", line 440, in _handle_events\\n    self._handle_recv()', 'File \"C:\\\\Users\\\\agoil\\\\Anaconda3\\\\envs\\\\dlnd\\\\lib\\\\site-packages\\\\zmq\\\\eventloop\\\\zmqstream.py\", line 472, in _handle_recv\\n    self._run_callback(callback, msg)', 'File \"C:\\\\Users\\\\agoil\\\\Anaconda3\\\\envs\\\\dlnd\\\\lib\\\\site-packages\\\\zmq\\\\eventloop\\\\zmqstream.py\", line 414, in _run_callback\\n    callback(*args, **kwargs)', 'File \"C:\\\\Users\\\\agoil\\\\Anaconda3\\\\envs\\\\dlnd\\\\lib\\\\site-packages\\\\tornado\\\\stack_context.py\", line 275, in null_wrapper\\n    return fn(*args, **kwargs)', 'File \"C:\\\\Users\\\\agoil\\\\Anaconda3\\\\envs\\\\dlnd\\\\lib\\\\site-packages\\\\ipykernel\\\\kernelbase.py\", line 276, in dispatcher\\n    return self.dispatch_shell(stream, msg)', 'File \"C:\\\\Users\\\\agoil\\\\Anaconda3\\\\envs\\\\dlnd\\\\lib\\\\site-packages\\\\ipykernel\\\\kernelbase.py\", line 228, in dispatch_shell\\n    handler(stream, idents, msg)', 'File \"C:\\\\Users\\\\agoil\\\\Anaconda3\\\\envs\\\\dlnd\\\\lib\\\\site-packages\\\\ipykernel\\\\kernelbase.py\", line 390, in execute_request\\n    user_expressions, allow_stdin)', 'File \"C:\\\\Users\\\\agoil\\\\Anaconda3\\\\envs\\\\dlnd\\\\lib\\\\site-packages\\\\ipykernel\\\\ipkernel.py\", line 196, in do_execute\\n    res = shell.run_cell(code, store_history=store_history, silent=silent)', 'File \"C:\\\\Users\\\\agoil\\\\Anaconda3\\\\envs\\\\dlnd\\\\lib\\\\site-packages\\\\ipykernel\\\\zmqshell.py\", line 501, in run_cell\\n    return super(ZMQInteractiveShell, self).run_cell(*args, **kwargs)', 'File \"C:\\\\Users\\\\agoil\\\\Anaconda3\\\\envs\\\\dlnd\\\\lib\\\\site-packages\\\\IPython\\\\core\\\\interactiveshell.py\", line 2717, in run_cell\\n    interactivity=interactivity, compiler=compiler, result=result)', 'File \"C:\\\\Users\\\\agoil\\\\Anaconda3\\\\envs\\\\dlnd\\\\lib\\\\site-packages\\\\IPython\\\\core\\\\interactiveshell.py\", line 2827, in run_ast_nodes\\n    if self.run_code(code, result):', 'File \"C:\\\\Users\\\\agoil\\\\Anaconda3\\\\envs\\\\dlnd\\\\lib\\\\site-packages\\\\IPython\\\\core\\\\interactiveshell.py\", line 2881, in run_code\\n    exec(code_obj, self.user_global_ns, self.user_ns)', 'File \"<ipython-input-32-078078ddc66f>\", line 23, in <module>\\n    tests.test_model_inputs(model_inputs)', 'File \"G:\\\\Udacity DLND\\\\udacity-dlnd-P4\\\\problem_unittests.py\", line 106, in test_model_inputs\\n    assert tf.assert_rank(lr, 0, message=\\'Learning Rate has wrong rank\\')', 'File \"C:\\\\Users\\\\agoil\\\\Anaconda3\\\\envs\\\\dlnd\\\\lib\\\\site-packages\\\\tensorflow\\\\python\\\\ops\\\\check_ops.py\", line 617, in assert_rank\\n    dynamic_condition, data, summarize)', 'File \"C:\\\\Users\\\\agoil\\\\Anaconda3\\\\envs\\\\dlnd\\\\lib\\\\site-packages\\\\tensorflow\\\\python\\\\ops\\\\check_ops.py\", line 571, in _assert_rank_condition\\n    return control_flow_ops.Assert(condition, data, summarize=summarize)', 'File \"C:\\\\Users\\\\agoil\\\\Anaconda3\\\\envs\\\\dlnd\\\\lib\\\\site-packages\\\\tensorflow\\\\python\\\\util\\\\tf_should_use.py\", line 170, in wrapped\\n    return _add_should_use_warning(fn(*args, **kwargs))', 'File \"C:\\\\Users\\\\agoil\\\\Anaconda3\\\\envs\\\\dlnd\\\\lib\\\\site-packages\\\\tensorflow\\\\python\\\\util\\\\tf_should_use.py\", line 139, in _add_should_use_warning\\n    wrapped = TFShouldUseWarningWrapper(x)', 'File \"C:\\\\Users\\\\agoil\\\\Anaconda3\\\\envs\\\\dlnd\\\\lib\\\\site-packages\\\\tensorflow\\\\python\\\\util\\\\tf_should_use.py\", line 96, in __init__\\n    stack = [s.strip() for s in traceback.format_stack()]']\n",
      "==================================\n",
      "ERROR:tensorflow:==================================\n",
      "Object was never used (type <class 'tensorflow.python.framework.ops.Operation'>):\n",
      "<tf.Operation 'assert_rank_3/Assert/Assert' type=Assert>\n",
      "If you want to mark it as used call its \"mark_used()\" method.\n",
      "It was originally created here:\n",
      "['File \"C:\\\\Users\\\\agoil\\\\Anaconda3\\\\envs\\\\dlnd\\\\lib\\\\runpy.py\", line 193, in _run_module_as_main\\n    \"__main__\", mod_spec)', 'File \"C:\\\\Users\\\\agoil\\\\Anaconda3\\\\envs\\\\dlnd\\\\lib\\\\runpy.py\", line 85, in _run_code\\n    exec(code, run_globals)', 'File \"C:\\\\Users\\\\agoil\\\\Anaconda3\\\\envs\\\\dlnd\\\\lib\\\\site-packages\\\\ipykernel\\\\__main__.py\", line 3, in <module>\\n    app.launch_new_instance()', 'File \"C:\\\\Users\\\\agoil\\\\Anaconda3\\\\envs\\\\dlnd\\\\lib\\\\site-packages\\\\traitlets\\\\config\\\\application.py\", line 658, in launch_instance\\n    app.start()', 'File \"C:\\\\Users\\\\agoil\\\\Anaconda3\\\\envs\\\\dlnd\\\\lib\\\\site-packages\\\\ipykernel\\\\kernelapp.py\", line 474, in start\\n    ioloop.IOLoop.instance().start()', 'File \"C:\\\\Users\\\\agoil\\\\Anaconda3\\\\envs\\\\dlnd\\\\lib\\\\site-packages\\\\zmq\\\\eventloop\\\\ioloop.py\", line 177, in start\\n    super(ZMQIOLoop, self).start()', 'File \"C:\\\\Users\\\\agoil\\\\Anaconda3\\\\envs\\\\dlnd\\\\lib\\\\site-packages\\\\tornado\\\\ioloop.py\", line 887, in start\\n    handler_func(fd_obj, events)', 'File \"C:\\\\Users\\\\agoil\\\\Anaconda3\\\\envs\\\\dlnd\\\\lib\\\\site-packages\\\\tornado\\\\stack_context.py\", line 275, in null_wrapper\\n    return fn(*args, **kwargs)', 'File \"C:\\\\Users\\\\agoil\\\\Anaconda3\\\\envs\\\\dlnd\\\\lib\\\\site-packages\\\\zmq\\\\eventloop\\\\zmqstream.py\", line 440, in _handle_events\\n    self._handle_recv()', 'File \"C:\\\\Users\\\\agoil\\\\Anaconda3\\\\envs\\\\dlnd\\\\lib\\\\site-packages\\\\zmq\\\\eventloop\\\\zmqstream.py\", line 472, in _handle_recv\\n    self._run_callback(callback, msg)', 'File \"C:\\\\Users\\\\agoil\\\\Anaconda3\\\\envs\\\\dlnd\\\\lib\\\\site-packages\\\\zmq\\\\eventloop\\\\zmqstream.py\", line 414, in _run_callback\\n    callback(*args, **kwargs)', 'File \"C:\\\\Users\\\\agoil\\\\Anaconda3\\\\envs\\\\dlnd\\\\lib\\\\site-packages\\\\tornado\\\\stack_context.py\", line 275, in null_wrapper\\n    return fn(*args, **kwargs)', 'File \"C:\\\\Users\\\\agoil\\\\Anaconda3\\\\envs\\\\dlnd\\\\lib\\\\site-packages\\\\ipykernel\\\\kernelbase.py\", line 276, in dispatcher\\n    return self.dispatch_shell(stream, msg)', 'File \"C:\\\\Users\\\\agoil\\\\Anaconda3\\\\envs\\\\dlnd\\\\lib\\\\site-packages\\\\ipykernel\\\\kernelbase.py\", line 228, in dispatch_shell\\n    handler(stream, idents, msg)', 'File \"C:\\\\Users\\\\agoil\\\\Anaconda3\\\\envs\\\\dlnd\\\\lib\\\\site-packages\\\\ipykernel\\\\kernelbase.py\", line 390, in execute_request\\n    user_expressions, allow_stdin)', 'File \"C:\\\\Users\\\\agoil\\\\Anaconda3\\\\envs\\\\dlnd\\\\lib\\\\site-packages\\\\ipykernel\\\\ipkernel.py\", line 196, in do_execute\\n    res = shell.run_cell(code, store_history=store_history, silent=silent)', 'File \"C:\\\\Users\\\\agoil\\\\Anaconda3\\\\envs\\\\dlnd\\\\lib\\\\site-packages\\\\ipykernel\\\\zmqshell.py\", line 501, in run_cell\\n    return super(ZMQInteractiveShell, self).run_cell(*args, **kwargs)', 'File \"C:\\\\Users\\\\agoil\\\\Anaconda3\\\\envs\\\\dlnd\\\\lib\\\\site-packages\\\\IPython\\\\core\\\\interactiveshell.py\", line 2717, in run_cell\\n    interactivity=interactivity, compiler=compiler, result=result)', 'File \"C:\\\\Users\\\\agoil\\\\Anaconda3\\\\envs\\\\dlnd\\\\lib\\\\site-packages\\\\IPython\\\\core\\\\interactiveshell.py\", line 2827, in run_ast_nodes\\n    if self.run_code(code, result):', 'File \"C:\\\\Users\\\\agoil\\\\Anaconda3\\\\envs\\\\dlnd\\\\lib\\\\site-packages\\\\IPython\\\\core\\\\interactiveshell.py\", line 2881, in run_code\\n    exec(code_obj, self.user_global_ns, self.user_ns)', 'File \"<ipython-input-32-078078ddc66f>\", line 23, in <module>\\n    tests.test_model_inputs(model_inputs)', 'File \"G:\\\\Udacity DLND\\\\udacity-dlnd-P4\\\\problem_unittests.py\", line 107, in test_model_inputs\\n    assert tf.assert_rank(keep_prob, 0, message=\\'Keep Probability has wrong rank\\')', 'File \"C:\\\\Users\\\\agoil\\\\Anaconda3\\\\envs\\\\dlnd\\\\lib\\\\site-packages\\\\tensorflow\\\\python\\\\ops\\\\check_ops.py\", line 617, in assert_rank\\n    dynamic_condition, data, summarize)', 'File \"C:\\\\Users\\\\agoil\\\\Anaconda3\\\\envs\\\\dlnd\\\\lib\\\\site-packages\\\\tensorflow\\\\python\\\\ops\\\\check_ops.py\", line 571, in _assert_rank_condition\\n    return control_flow_ops.Assert(condition, data, summarize=summarize)', 'File \"C:\\\\Users\\\\agoil\\\\Anaconda3\\\\envs\\\\dlnd\\\\lib\\\\site-packages\\\\tensorflow\\\\python\\\\util\\\\tf_should_use.py\", line 170, in wrapped\\n    return _add_should_use_warning(fn(*args, **kwargs))', 'File \"C:\\\\Users\\\\agoil\\\\Anaconda3\\\\envs\\\\dlnd\\\\lib\\\\site-packages\\\\tensorflow\\\\python\\\\util\\\\tf_should_use.py\", line 139, in _add_should_use_warning\\n    wrapped = TFShouldUseWarningWrapper(x)', 'File \"C:\\\\Users\\\\agoil\\\\Anaconda3\\\\envs\\\\dlnd\\\\lib\\\\site-packages\\\\tensorflow\\\\python\\\\util\\\\tf_should_use.py\", line 96, in __init__\\n    stack = [s.strip() for s in traceback.format_stack()]']\n",
      "==================================\n",
      "Tests Passed\n"
     ]
    }
   ],
   "source": [
    "def model_inputs():\n",
    "    \"\"\"\n",
    "    Create TF Placeholders for input, targets, learning rate, and lengths of source and target sequences.\n",
    "    :return: Tuple (input, targets, learning rate, keep probability, target sequence length,\n",
    "    max target sequence length, source sequence length)\n",
    "    \"\"\"\n",
    "    # TODO: Implement Function\n",
    "    input_data = tf.placeholder(tf.int32, [None, None], name='input')\n",
    "    targets = tf.placeholder(tf.int32, [None, None], name='targets')\n",
    "    lr = tf.placeholder(tf.float32, name='learning_rate')\n",
    "    keep_prob = tf.placeholder(tf.float32, name='keep_prob')\n",
    "\n",
    "    target_sequence_length = tf.placeholder(tf.int32, (None,), name='target_sequence_length')\n",
    "    max_target_sequence_length = tf.reduce_max(target_sequence_length, name='max_target_len')\n",
    "    source_sequence_length = tf.placeholder(tf.int32, (None,), name='source_sequence_length')\n",
    "    \n",
    "    return input_data, targets, lr, keep_prob, target_sequence_length, max_target_sequence_length, source_sequence_length\n",
    "\n",
    "\n",
    "\"\"\"\n",
    "DON'T MODIFY ANYTHING IN THIS CELL THAT IS BELOW THIS LINE\n",
    "\"\"\"\n",
    "tests.test_model_inputs(model_inputs)"
   ]
  },
  {
   "cell_type": "markdown",
   "metadata": {},
   "source": [
    "### Process Decoder Input\n",
    "Implement `process_decoder_input` by removing the last word id from each batch in `target_data` and concat the GO ID to the begining of each batch."
   ]
  },
  {
   "cell_type": "code",
   "execution_count": 33,
   "metadata": {
    "collapsed": false
   },
   "outputs": [
    {
     "name": "stdout",
     "output_type": "stream",
     "text": [
      "Tests Passed\n"
     ]
    }
   ],
   "source": [
    "def process_decoder_input(target_data, target_vocab_to_int, batch_size):\n",
    "    \"\"\"\n",
    "    Preprocess target data for encoding\n",
    "    :param target_data: Target Placehoder\n",
    "    :param target_vocab_to_int: Dictionary to go from the target words to an id\n",
    "    :param batch_size: Batch Size\n",
    "    :return: Preprocessed target data\n",
    "    \"\"\"\n",
    "    ending = tf.strided_slice(target_data, [0, 0], [batch_size, -1], [1, 1])\n",
    "    decoder_input = tf.concat([tf.fill([batch_size, 1], target_vocab_to_int['<GO>']), ending], 1)\n",
    "\n",
    "    return decoder_input\n",
    "\n",
    "\"\"\"\n",
    "DON'T MODIFY ANYTHING IN THIS CELL THAT IS BELOW THIS LINE\n",
    "\"\"\"\n",
    "tests.test_process_encoding_input(process_decoder_input)"
   ]
  },
  {
   "cell_type": "markdown",
   "metadata": {},
   "source": [
    "### Encoding\n",
    "Implement `encoding_layer()` to create a Encoder RNN layer:\n",
    " * Embed the encoder input using [`tf.contrib.layers.embed_sequence`](https://www.tensorflow.org/api_docs/python/tf/contrib/layers/embed_sequence)\n",
    " * Construct a [stacked](https://github.com/tensorflow/tensorflow/blob/6947f65a374ebf29e74bb71e36fd82760056d82c/tensorflow/docs_src/tutorials/recurrent.md#stacking-multiple-lstms) [`tf.contrib.rnn.LSTMCell`](https://www.tensorflow.org/api_docs/python/tf/contrib/rnn/LSTMCell) wrapped in a [`tf.contrib.rnn.DropoutWrapper`](https://www.tensorflow.org/api_docs/python/tf/contrib/rnn/DropoutWrapper)\n",
    " * Pass cell and embedded input to [`tf.nn.dynamic_rnn()`](https://www.tensorflow.org/api_docs/python/tf/nn/dynamic_rnn)"
   ]
  },
  {
   "cell_type": "code",
   "execution_count": 34,
   "metadata": {
    "collapsed": false,
    "scrolled": false
   },
   "outputs": [
    {
     "name": "stdout",
     "output_type": "stream",
     "text": [
      "Tests Passed\n"
     ]
    }
   ],
   "source": [
    "from imp import reload\n",
    "reload(tests)\n",
    "\n",
    "def encoding_layer(rnn_inputs, rnn_size, num_layers, keep_prob, \n",
    "                   source_sequence_length, source_vocab_size, \n",
    "                   encoding_embedding_size):\n",
    "    \"\"\"\n",
    "    Create encoding layer\n",
    "    :param rnn_inputs: Inputs for the RNN\n",
    "    :param rnn_size: RNN Size\n",
    "    :param num_layers: Number of layers\n",
    "    :param keep_prob: Dropout keep probability\n",
    "    :param source_sequence_length: a list of the lengths of each sequence in the batch\n",
    "    :param source_vocab_size: vocabulary size of source data\n",
    "    :param encoding_embedding_size: embedding size of source data\n",
    "    :return: tuple (RNN output, RNN state)\n",
    "    \"\"\"\n",
    "    # Encoder embedding\n",
    "    enc_embed_input = tf.contrib.layers.embed_sequence(rnn_inputs, source_vocab_size, encoding_embedding_size)\n",
    "\n",
    "    # RNN cell\n",
    "    def make_cell(rnn_size):\n",
    "        enc_cell = tf.contrib.rnn.LSTMCell(rnn_size,\n",
    "                                           initializer=tf.random_uniform_initializer(-0.1, 0.1, seed=2))\n",
    "        enc_cell = tf.contrib.rnn.DropoutWrapper(enc_cell, output_keep_prob=keep_prob)        \n",
    "        return enc_cell\n",
    "\n",
    "    enc_cell = tf.contrib.rnn.MultiRNNCell([make_cell(rnn_size) for _ in range(num_layers)])\n",
    "    \n",
    "    enc_output, enc_state = tf.nn.dynamic_rnn(enc_cell, enc_embed_input, sequence_length=source_sequence_length, dtype=tf.float32)\n",
    "    \n",
    "    return enc_output, enc_state\n",
    "\n",
    "\"\"\"\n",
    "DON'T MODIFY ANYTHING IN THIS CELL THAT IS BELOW THIS LINE\n",
    "\"\"\"\n",
    "tests.test_encoding_layer(encoding_layer)"
   ]
  },
  {
   "cell_type": "markdown",
   "metadata": {},
   "source": [
    "### Decoding - Training\n",
    "Create a training decoding layer:\n",
    "* Create a [`tf.contrib.seq2seq.TrainingHelper`](https://www.tensorflow.org/api_docs/python/tf/contrib/seq2seq/TrainingHelper) \n",
    "* Create a [`tf.contrib.seq2seq.BasicDecoder`](https://www.tensorflow.org/api_docs/python/tf/contrib/seq2seq/BasicDecoder)\n",
    "* Obtain the decoder outputs from [`tf.contrib.seq2seq.dynamic_decode`](https://www.tensorflow.org/api_docs/python/tf/contrib/seq2seq/dynamic_decode)"
   ]
  },
  {
   "cell_type": "code",
   "execution_count": 35,
   "metadata": {
    "collapsed": false
   },
   "outputs": [
    {
     "name": "stdout",
     "output_type": "stream",
     "text": [
      "Tests Passed\n"
     ]
    }
   ],
   "source": [
    "\n",
    "def decoding_layer_train(encoder_state, dec_cell, dec_embed_input, \n",
    "                         target_sequence_length, max_summary_length, \n",
    "                         output_layer, keep_prob):\n",
    "    \"\"\"\n",
    "    Create a decoding layer for training\n",
    "    :param encoder_state: Encoder State\n",
    "    :param dec_cell: Decoder RNN Cell\n",
    "    :param dec_embed_input: Decoder embedded input\n",
    "    :param target_sequence_length: The lengths of each sequence in the target batch\n",
    "    :param max_summary_length: The length of the longest sequence in the batch\n",
    "    :param output_layer: Function to apply the output layer\n",
    "    :param keep_prob: Dropout keep probability\n",
    "    :return: BasicDecoderOutput containing training logits and sample_id\n",
    "    \"\"\"\n",
    "\n",
    "    # Helper for the training process. Used by BasicDecoder to read inputs.\n",
    "    training_helper = tf.contrib.seq2seq.TrainingHelper(inputs=dec_embed_input,\n",
    "                                                            sequence_length=target_sequence_length,\n",
    "                                                            time_major=False)\n",
    "        \n",
    "        \n",
    "    # Basic decoder\n",
    "    training_decoder = tf.contrib.seq2seq.BasicDecoder(dec_cell,\n",
    "                                                           training_helper,\n",
    "                                                           encoder_state,\n",
    "                                                           output_layer) \n",
    "        \n",
    "    # Perform dynamic decoding using the decoder\n",
    "    training_decoder_output = tf.contrib.seq2seq.dynamic_decode(training_decoder,\n",
    "                                                                       impute_finished=True,\n",
    "                                                                       maximum_iterations=max_summary_length)[0]\n",
    "    return training_decoder_output\n",
    "\n",
    "\n",
    "\n",
    "\"\"\"\n",
    "DON'T MODIFY ANYTHING IN THIS CELL THAT IS BELOW THIS LINE\n",
    "\"\"\"\n",
    "tests.test_decoding_layer_train(decoding_layer_train)"
   ]
  },
  {
   "cell_type": "markdown",
   "metadata": {},
   "source": [
    "### Decoding - Inference\n",
    "Create inference decoder:\n",
    "* Create a [`tf.contrib.seq2seq.GreedyEmbeddingHelper`](https://www.tensorflow.org/api_docs/python/tf/contrib/seq2seq/GreedyEmbeddingHelper)\n",
    "* Create a [`tf.contrib.seq2seq.BasicDecoder`](https://www.tensorflow.org/api_docs/python/tf/contrib/seq2seq/BasicDecoder)\n",
    "* Obtain the decoder outputs from [`tf.contrib.seq2seq.dynamic_decode`](https://www.tensorflow.org/api_docs/python/tf/contrib/seq2seq/dynamic_decode)"
   ]
  },
  {
   "cell_type": "code",
   "execution_count": 36,
   "metadata": {
    "collapsed": false,
    "scrolled": true
   },
   "outputs": [
    {
     "name": "stdout",
     "output_type": "stream",
     "text": [
      "Tests Passed\n"
     ]
    }
   ],
   "source": [
    "def decoding_layer_infer(encoder_state, dec_cell, dec_embeddings, start_of_sequence_id,\n",
    "                         end_of_sequence_id, max_target_sequence_length,\n",
    "                         vocab_size, output_layer, batch_size, keep_prob):\n",
    "    \"\"\"\n",
    "    Create a decoding layer for inference\n",
    "    :param encoder_state: Encoder state\n",
    "    :param dec_cell: Decoder RNN Cell\n",
    "    :param dec_embeddings: Decoder embeddings\n",
    "    :param start_of_sequence_id: GO ID\n",
    "    :param end_of_sequence_id: EOS Id\n",
    "    :param max_target_sequence_length: Maximum length of target sequences\n",
    "    :param vocab_size: Size of decoder/target vocabulary\n",
    "    :param decoding_scope: TenorFlow Variable Scope for decoding\n",
    "    :param output_layer: Function to apply the output layer\n",
    "    :param batch_size: Batch size\n",
    "    :param keep_prob: Dropout keep probability\n",
    "    :return: BasicDecoderOutput containing inference logits and sample_id\n",
    "    \"\"\"\n",
    "    start_tokens = tf.tile(tf.constant([start_of_sequence_id], dtype=tf.int32), [batch_size], name='start_tokens')\n",
    "\n",
    "    # Helper for the inference process.\n",
    "    inference_helper = tf.contrib.seq2seq.GreedyEmbeddingHelper(dec_embeddings,\n",
    "                                                                start_tokens,\n",
    "                                                                end_of_sequence_id)\n",
    "\n",
    "    # Basic decoder\n",
    "    inference_decoder = tf.contrib.seq2seq.BasicDecoder(dec_cell,\n",
    "                                                        inference_helper,\n",
    "                                                        encoder_state,\n",
    "                                                        output_layer)\n",
    "        \n",
    "    # Perform dynamic decoding using the decoder\n",
    "    inference_decoder_output = tf.contrib.seq2seq.dynamic_decode(inference_decoder,\n",
    "                                                            impute_finished=True,\n",
    "                                                            maximum_iterations=max_target_sequence_length)[0]\n",
    "    \n",
    "    return inference_decoder_output\n",
    "\n",
    "\n",
    "\n",
    "\"\"\"\n",
    "DON'T MODIFY ANYTHING IN THIS CELL THAT IS BELOW THIS LINE\n",
    "\"\"\"\n",
    "tests.test_decoding_layer_infer(decoding_layer_infer)"
   ]
  },
  {
   "cell_type": "markdown",
   "metadata": {},
   "source": [
    "### Build the Decoding Layer\n",
    "Implement `decoding_layer()` to create a Decoder RNN layer.\n",
    "\n",
    "* Embed the target sequences\n",
    "* Construct the decoder LSTM cell (just like you constructed the encoder cell above)\n",
    "* Create an output layer to map the outputs of the decoder to the elements of our vocabulary\n",
    "* Use the your `decoding_layer_train(encoder_state, dec_cell, dec_embed_input, target_sequence_length, max_target_sequence_length, output_layer, keep_prob)` function to get the training logits.\n",
    "* Use your `decoding_layer_infer(encoder_state, dec_cell, dec_embeddings, start_of_sequence_id, end_of_sequence_id, max_target_sequence_length, vocab_size, output_layer, batch_size, keep_prob)` function to get the inference logits.\n",
    "\n",
    "Note: You'll need to use [tf.variable_scope](https://www.tensorflow.org/api_docs/python/tf/variable_scope) to share variables between training and inference."
   ]
  },
  {
   "cell_type": "code",
   "execution_count": 40,
   "metadata": {
    "collapsed": false
   },
   "outputs": [
    {
     "name": "stdout",
     "output_type": "stream",
     "text": [
      "Tests Passed\n"
     ]
    }
   ],
   "source": [
    "def decoding_layer(dec_input, encoder_state,\n",
    "                   target_sequence_length, max_target_sequence_length,\n",
    "                   rnn_size,\n",
    "                   num_layers, target_vocab_to_int, target_vocab_size,\n",
    "                   batch_size, keep_prob, decoding_embedding_size):\n",
    "    \"\"\"\n",
    "    Create decoding layer\n",
    "    :param dec_input: Decoder input\n",
    "    :param encoder_state: Encoder state\n",
    "    :param target_sequence_length: The lengths of each sequence in the target batch\n",
    "    :param max_target_sequence_length: Maximum length of target sequences\n",
    "    :param rnn_size: RNN Size\n",
    "    :param num_layers: Number of layers\n",
    "    :param target_vocab_to_int: Dictionary to go from the target words to an id\n",
    "    :param target_vocab_size: Size of target vocabulary\n",
    "    :param batch_size: The size of the batch\n",
    "    :param keep_prob: Dropout keep probability\n",
    "    :param decoding_embedding_size: Decoding embedding size\n",
    "    :return: Tuple of (Training BasicDecoderOutput, Inference BasicDecoderOutput)\n",
    "    \"\"\"\n",
    "    # 1. Decoder Embedding\n",
    "    dec_embeddings = tf.Variable(tf.random_uniform([target_vocab_size, decoding_embedding_size]))\n",
    "    dec_embed_input = tf.nn.embedding_lookup(dec_embeddings, dec_input)\n",
    "\n",
    "    # 2. Construct the decoder cell\n",
    "    def make_cell(rnn_size):\n",
    "        dec_cell = tf.contrib.rnn.LSTMCell(rnn_size,\n",
    "                                           initializer=tf.random_uniform_initializer(-0.1, 0.1, seed=2))\n",
    "        dec_cell = tf.contrib.rnn.DropoutWrapper(dec_cell, output_keep_prob=keep_prob)\n",
    "        return dec_cell\n",
    "\n",
    "    dec_cell = tf.contrib.rnn.MultiRNNCell([make_cell(rnn_size) for _ in range(num_layers)])\n",
    "     \n",
    "    # 3. Dense layer to translate the decoder's output at each time \n",
    "    # step into a choice from the target vocabulary\n",
    "    output_layer = Dense(target_vocab_size, kernel_initializer = tf.truncated_normal_initializer(mean = 0.0, stddev=0.1))\n",
    "\n",
    "\n",
    "    # 4. Set up a training decoder and an inference decoder\n",
    "    # Training Decoder\n",
    "    with tf.variable_scope(\"decode\"):\n",
    "        \n",
    "        training_decoder_output = decoding_layer_train(encoder_state, dec_cell, dec_embed_input,\n",
    "                                                       target_sequence_length, max_target_sequence_length,\n",
    "                                                       output_layer, keep_prob)        \n",
    "        \n",
    "    with tf.variable_scope(\"decode\", reuse=True):\n",
    "        \n",
    "        start_of_sequence_id = target_vocab_to_int['<GO>']\n",
    "        end_of_sequence_id = target_vocab_to_int['<EOS>']\n",
    "        \n",
    "        inference_decoder_output = decoding_layer_infer(encoder_state, dec_cell, dec_embeddings, start_of_sequence_id,\n",
    "                                                        end_of_sequence_id, max_target_sequence_length,\n",
    "                                                        target_vocab_size, output_layer, batch_size, keep_prob)        \n",
    "        \n",
    "    return training_decoder_output, inference_decoder_output\n",
    "\n",
    "\n",
    "\n",
    "\"\"\"\n",
    "DON'T MODIFY ANYTHING IN THIS CELL THAT IS BELOW THIS LINE\n",
    "\"\"\"\n",
    "tests.test_decoding_layer(decoding_layer)"
   ]
  },
  {
   "cell_type": "markdown",
   "metadata": {},
   "source": [
    "### Build the Neural Network\n",
    "Apply the functions you implemented above to:\n",
    "\n",
    "- Encode the input using your `encoding_layer(rnn_inputs, rnn_size, num_layers, keep_prob,  source_sequence_length, source_vocab_size, encoding_embedding_size)`.\n",
    "- Process target data using your `process_decoder_input(target_data, target_vocab_to_int, batch_size)` function.\n",
    "- Decode the encoded input using your `decoding_layer(dec_input, enc_state, target_sequence_length, max_target_sentence_length, rnn_size, num_layers, target_vocab_to_int, target_vocab_size, batch_size, keep_prob, dec_embedding_size)` function."
   ]
  },
  {
   "cell_type": "code",
   "execution_count": 42,
   "metadata": {
    "collapsed": false
   },
   "outputs": [
    {
     "name": "stdout",
     "output_type": "stream",
     "text": [
      "Tests Passed\n"
     ]
    }
   ],
   "source": [
    "def seq2seq_model(input_data, target_data, keep_prob, batch_size,\n",
    "                  source_sequence_length, target_sequence_length,\n",
    "                  max_target_sentence_length,\n",
    "                  source_vocab_size, target_vocab_size,\n",
    "                  enc_embedding_size, dec_embedding_size,\n",
    "                  rnn_size, num_layers, target_vocab_to_int):\n",
    "    \"\"\"\n",
    "    Build the Sequence-to-Sequence part of the neural network\n",
    "    :param input_data: Input placeholder\n",
    "    :param target_data: Target placeholder\n",
    "    :param keep_prob: Dropout keep probability placeholder\n",
    "    :param batch_size: Batch Size\n",
    "    :param source_sequence_length: Sequence Lengths of source sequences in the batch\n",
    "    :param target_sequence_length: Sequence Lengths of target sequences in the batch\n",
    "    :param source_vocab_size: Source vocabulary size\n",
    "    :param target_vocab_size: Target vocabulary size\n",
    "    :param enc_embedding_size: Decoder embedding size\n",
    "    :param dec_embedding_size: Encoder embedding size\n",
    "    :param rnn_size: RNN Size\n",
    "    :param num_layers: Number of layers\n",
    "    :param target_vocab_to_int: Dictionary to go from the target words to an id\n",
    "    :return: Tuple of (Training BasicDecoderOutput, Inference BasicDecoderOutput)\n",
    "    \"\"\"\n",
    "    # Pass the input data through the encoder. We'll ignore the encoder output, but use the state\n",
    "    _, enc_state = encoding_layer(input_data, rnn_size, num_layers, keep_prob, \n",
    "                                  source_sequence_length, source_vocab_size, enc_embedding_size)\n",
    "    \n",
    "    \n",
    "    # Prepare the target sequences we'll feed to the decoder in training mode\n",
    "    dec_input = process_decoder_input(target_data, target_vocab_to_int, batch_size)\n",
    "    \n",
    "    # Pass encoder state and decoder inputs to the decoders\n",
    "    training_decoder_output, inference_decoder_output = decoding_layer(dec_input, enc_state,\n",
    "                                                                       target_sequence_length, max_target_sentence_length,\n",
    "                                                                       rnn_size, num_layers, target_vocab_to_int,\n",
    "                                                                       target_vocab_size, batch_size, keep_prob,\n",
    "                                                                       dec_embedding_size) \n",
    "    \n",
    "    return training_decoder_output, inference_decoder_output\n",
    "\n",
    "\n",
    "\"\"\"\n",
    "DON'T MODIFY ANYTHING IN THIS CELL THAT IS BELOW THIS LINE\n",
    "\"\"\"\n",
    "tests.test_seq2seq_model(seq2seq_model)"
   ]
  },
  {
   "cell_type": "markdown",
   "metadata": {},
   "source": [
    "## Neural Network Training\n",
    "### Hyperparameters\n",
    "Tune the following parameters:\n",
    "\n",
    "- Set `epochs` to the number of epochs.\n",
    "- Set `batch_size` to the batch size.\n",
    "- Set `rnn_size` to the size of the RNNs.\n",
    "- Set `num_layers` to the number of layers.\n",
    "- Set `encoding_embedding_size` to the size of the embedding for the encoder.\n",
    "- Set `decoding_embedding_size` to the size of the embedding for the decoder.\n",
    "- Set `learning_rate` to the learning rate.\n",
    "- Set `keep_probability` to the Dropout keep probability\n",
    "- Set `display_step` to state how many steps between each debug output statement"
   ]
  },
  {
   "cell_type": "code",
   "execution_count": 59,
   "metadata": {
    "collapsed": true
   },
   "outputs": [],
   "source": [
    "# Number of Epochs\n",
    "epochs = 10\n",
    "# Batch Size\n",
    "batch_size = 128\n",
    "# RNN Size\n",
    "rnn_size = 50\n",
    "# Number of Layers\n",
    "num_layers = 2\n",
    "# Embedding Size\n",
    "encoding_embedding_size = 100\n",
    "decoding_embedding_size = 100\n",
    "# Learning Rate\n",
    "learning_rate = 0.001\n",
    "# Dropout Keep Probability\n",
    "keep_probability = 0.65\n",
    "display_step = 100"
   ]
  },
  {
   "cell_type": "markdown",
   "metadata": {},
   "source": [
    "### Build the Graph\n",
    "Build the graph using the neural network you implemented."
   ]
  },
  {
   "cell_type": "code",
   "execution_count": 60,
   "metadata": {
    "collapsed": true
   },
   "outputs": [],
   "source": [
    "\"\"\"\n",
    "DON'T MODIFY ANYTHING IN THIS CELL\n",
    "\"\"\"\n",
    "save_path = 'checkpoints/dev'\n",
    "(source_int_text, target_int_text), (source_vocab_to_int, target_vocab_to_int), _ = helper.load_preprocess()\n",
    "max_target_sentence_length = max([len(sentence) for sentence in source_int_text])\n",
    "\n",
    "train_graph = tf.Graph()\n",
    "with train_graph.as_default():\n",
    "    input_data, targets, lr, keep_prob, target_sequence_length, max_target_sequence_length, source_sequence_length = model_inputs()\n",
    "\n",
    "    #sequence_length = tf.placeholder_with_default(max_target_sentence_length, None, name='sequence_length')\n",
    "    input_shape = tf.shape(input_data)\n",
    "\n",
    "    train_logits, inference_logits = seq2seq_model(tf.reverse(input_data, [-1]),\n",
    "                                                   targets,\n",
    "                                                   keep_prob,\n",
    "                                                   batch_size,\n",
    "                                                   source_sequence_length,\n",
    "                                                   target_sequence_length,\n",
    "                                                   max_target_sequence_length,\n",
    "                                                   len(source_vocab_to_int),\n",
    "                                                   len(target_vocab_to_int),\n",
    "                                                   encoding_embedding_size,\n",
    "                                                   decoding_embedding_size,\n",
    "                                                   rnn_size,\n",
    "                                                   num_layers,\n",
    "                                                   target_vocab_to_int)\n",
    "\n",
    "\n",
    "    training_logits = tf.identity(train_logits.rnn_output, name='logits')\n",
    "    inference_logits = tf.identity(inference_logits.sample_id, name='predictions')\n",
    "\n",
    "    masks = tf.sequence_mask(target_sequence_length, max_target_sequence_length, dtype=tf.float32, name='masks')\n",
    "\n",
    "    with tf.name_scope(\"optimization\"):\n",
    "        # Loss function\n",
    "        cost = tf.contrib.seq2seq.sequence_loss(\n",
    "            training_logits,\n",
    "            targets,\n",
    "            masks)\n",
    "\n",
    "        # Optimizer\n",
    "        optimizer = tf.train.AdamOptimizer(lr)\n",
    "\n",
    "        # Gradient Clipping\n",
    "        gradients = optimizer.compute_gradients(cost)\n",
    "        capped_gradients = [(tf.clip_by_value(grad, -1., 1.), var) for grad, var in gradients if grad is not None]\n",
    "        train_op = optimizer.apply_gradients(capped_gradients)\n"
   ]
  },
  {
   "cell_type": "markdown",
   "metadata": {},
   "source": [
    "Batch and pad the source and target sequences"
   ]
  },
  {
   "cell_type": "code",
   "execution_count": 61,
   "metadata": {
    "collapsed": true
   },
   "outputs": [],
   "source": [
    "\"\"\"\n",
    "DON'T MODIFY ANYTHING IN THIS CELL\n",
    "\"\"\"\n",
    "def pad_sentence_batch(sentence_batch, pad_int):\n",
    "    \"\"\"Pad sentences with <PAD> so that each sentence of a batch has the same length\"\"\"\n",
    "    max_sentence = max([len(sentence) for sentence in sentence_batch])\n",
    "    return [sentence + [pad_int] * (max_sentence - len(sentence)) for sentence in sentence_batch]\n",
    "\n",
    "\n",
    "def get_batches(sources, targets, batch_size, source_pad_int, target_pad_int):\n",
    "    \"\"\"Batch targets, sources, and the lengths of their sentences together\"\"\"\n",
    "    for batch_i in range(0, len(sources)//batch_size):\n",
    "        start_i = batch_i * batch_size\n",
    "\n",
    "        # Slice the right amount for the batch\n",
    "        sources_batch = sources[start_i:start_i + batch_size]\n",
    "        targets_batch = targets[start_i:start_i + batch_size]\n",
    "\n",
    "        # Pad\n",
    "        pad_sources_batch = np.array(pad_sentence_batch(sources_batch, source_pad_int))\n",
    "        pad_targets_batch = np.array(pad_sentence_batch(targets_batch, target_pad_int))\n",
    "\n",
    "        # Need the lengths for the _lengths parameters\n",
    "        pad_targets_lengths = []\n",
    "        for target in pad_targets_batch:\n",
    "            pad_targets_lengths.append(len(target))\n",
    "\n",
    "        pad_source_lengths = []\n",
    "        for source in pad_sources_batch:\n",
    "            pad_source_lengths.append(len(source))\n",
    "\n",
    "        yield pad_sources_batch, pad_targets_batch, pad_source_lengths, pad_targets_lengths\n"
   ]
  },
  {
   "cell_type": "markdown",
   "metadata": {},
   "source": [
    "### Train\n",
    "Train the neural network on the preprocessed data. If you have a hard time getting a good loss, check the forms to see if anyone is having the same problem."
   ]
  },
  {
   "cell_type": "code",
   "execution_count": 62,
   "metadata": {
    "collapsed": false,
    "scrolled": true
   },
   "outputs": [
    {
     "name": "stdout",
     "output_type": "stream",
     "text": [
      "Epoch   0 Batch  100/1077 - Train Accuracy: 0.3230, Validation Accuracy: 0.3920, Loss: 3.1946\n",
      "Epoch   0 Batch  200/1077 - Train Accuracy: 0.3789, Validation Accuracy: 0.4336, Loss: 2.7334\n",
      "Epoch   0 Batch  300/1077 - Train Accuracy: 0.3540, Validation Accuracy: 0.4435, Loss: 2.5810\n",
      "Epoch   0 Batch  400/1077 - Train Accuracy: 0.3777, Validation Accuracy: 0.4361, Loss: 2.2771\n",
      "Epoch   0 Batch  500/1077 - Train Accuracy: 0.3902, Validation Accuracy: 0.4364, Loss: 2.0059\n",
      "Epoch   0 Batch  600/1077 - Train Accuracy: 0.4275, Validation Accuracy: 0.4414, Loss: 1.6403\n",
      "Epoch   0 Batch  700/1077 - Train Accuracy: 0.3832, Validation Accuracy: 0.4283, Loss: 1.4592\n",
      "Epoch   0 Batch  800/1077 - Train Accuracy: 0.3383, Validation Accuracy: 0.3952, Loss: 1.3459\n",
      "Epoch   0 Batch  900/1077 - Train Accuracy: 0.3734, Validation Accuracy: 0.4634, Loss: 1.2419\n",
      "Epoch   0 Batch 1000/1077 - Train Accuracy: 0.5342, Validation Accuracy: 0.5469, Loss: 1.0927\n",
      "Epoch   1 Batch  100/1077 - Train Accuracy: 0.5348, Validation Accuracy: 0.5391, Loss: 1.0273\n",
      "Epoch   1 Batch  200/1077 - Train Accuracy: 0.4910, Validation Accuracy: 0.5462, Loss: 0.9893\n",
      "Epoch   1 Batch  300/1077 - Train Accuracy: 0.5095, Validation Accuracy: 0.5497, Loss: 0.9563\n",
      "Epoch   1 Batch  400/1077 - Train Accuracy: 0.5191, Validation Accuracy: 0.5753, Loss: 0.8872\n",
      "Epoch   1 Batch  500/1077 - Train Accuracy: 0.5715, Validation Accuracy: 0.5923, Loss: 0.8670\n",
      "Epoch   1 Batch  600/1077 - Train Accuracy: 0.5945, Validation Accuracy: 0.6062, Loss: 0.7930\n",
      "Epoch   1 Batch  700/1077 - Train Accuracy: 0.5574, Validation Accuracy: 0.5994, Loss: 0.8070\n",
      "Epoch   1 Batch  800/1077 - Train Accuracy: 0.5645, Validation Accuracy: 0.6030, Loss: 0.7981\n",
      "Epoch   1 Batch  900/1077 - Train Accuracy: 0.5859, Validation Accuracy: 0.6158, Loss: 0.7784\n",
      "Epoch   1 Batch 1000/1077 - Train Accuracy: 0.6440, Validation Accuracy: 0.6232, Loss: 0.7260\n",
      "Epoch   2 Batch  100/1077 - Train Accuracy: 0.6141, Validation Accuracy: 0.6381, Loss: 0.7326\n",
      "Epoch   2 Batch  200/1077 - Train Accuracy: 0.6188, Validation Accuracy: 0.6310, Loss: 0.7274\n",
      "Epoch   2 Batch  300/1077 - Train Accuracy: 0.6225, Validation Accuracy: 0.6452, Loss: 0.6992\n",
      "Epoch   2 Batch  400/1077 - Train Accuracy: 0.6336, Validation Accuracy: 0.6438, Loss: 0.6667\n",
      "Epoch   2 Batch  500/1077 - Train Accuracy: 0.6547, Validation Accuracy: 0.6460, Loss: 0.6564\n",
      "Epoch   2 Batch  600/1077 - Train Accuracy: 0.6722, Validation Accuracy: 0.6417, Loss: 0.6051\n",
      "Epoch   2 Batch  700/1077 - Train Accuracy: 0.6324, Validation Accuracy: 0.6573, Loss: 0.6340\n",
      "Epoch   2 Batch  800/1077 - Train Accuracy: 0.6395, Validation Accuracy: 0.6566, Loss: 0.6105\n",
      "Epoch   2 Batch  900/1077 - Train Accuracy: 0.6785, Validation Accuracy: 0.6477, Loss: 0.6080\n",
      "Epoch   2 Batch 1000/1077 - Train Accuracy: 0.7057, Validation Accuracy: 0.6527, Loss: 0.5633\n",
      "Epoch   3 Batch  100/1077 - Train Accuracy: 0.6602, Validation Accuracy: 0.6694, Loss: 0.5998\n",
      "Epoch   3 Batch  200/1077 - Train Accuracy: 0.6832, Validation Accuracy: 0.6438, Loss: 0.5831\n",
      "Epoch   3 Batch  300/1077 - Train Accuracy: 0.6916, Validation Accuracy: 0.6687, Loss: 0.5805\n",
      "Epoch   3 Batch  400/1077 - Train Accuracy: 0.7172, Validation Accuracy: 0.6896, Loss: 0.5509\n",
      "Epoch   3 Batch  500/1077 - Train Accuracy: 0.6984, Validation Accuracy: 0.6868, Loss: 0.5282\n",
      "Epoch   3 Batch  600/1077 - Train Accuracy: 0.7106, Validation Accuracy: 0.6665, Loss: 0.5043\n",
      "Epoch   3 Batch  700/1077 - Train Accuracy: 0.6684, Validation Accuracy: 0.6829, Loss: 0.5162\n",
      "Epoch   3 Batch  800/1077 - Train Accuracy: 0.6785, Validation Accuracy: 0.6886, Loss: 0.5070\n",
      "Epoch   3 Batch  900/1077 - Train Accuracy: 0.7137, Validation Accuracy: 0.6857, Loss: 0.5272\n",
      "Epoch   3 Batch 1000/1077 - Train Accuracy: 0.7347, Validation Accuracy: 0.6960, Loss: 0.4664\n",
      "Epoch   4 Batch  100/1077 - Train Accuracy: 0.7285, Validation Accuracy: 0.7070, Loss: 0.4894\n",
      "Epoch   4 Batch  200/1077 - Train Accuracy: 0.7512, Validation Accuracy: 0.6989, Loss: 0.4767\n",
      "Epoch   4 Batch  300/1077 - Train Accuracy: 0.7455, Validation Accuracy: 0.6896, Loss: 0.4689\n",
      "Epoch   4 Batch  400/1077 - Train Accuracy: 0.7262, Validation Accuracy: 0.7180, Loss: 0.4708\n",
      "Epoch   4 Batch  500/1077 - Train Accuracy: 0.7359, Validation Accuracy: 0.7113, Loss: 0.4358\n",
      "Epoch   4 Batch  600/1077 - Train Accuracy: 0.7623, Validation Accuracy: 0.7134, Loss: 0.4287\n",
      "Epoch   4 Batch  700/1077 - Train Accuracy: 0.7426, Validation Accuracy: 0.7198, Loss: 0.4087\n",
      "Epoch   4 Batch  800/1077 - Train Accuracy: 0.7352, Validation Accuracy: 0.7386, Loss: 0.4413\n",
      "Epoch   4 Batch  900/1077 - Train Accuracy: 0.7645, Validation Accuracy: 0.7496, Loss: 0.4432\n",
      "Epoch   4 Batch 1000/1077 - Train Accuracy: 0.7578, Validation Accuracy: 0.7479, Loss: 0.3827\n",
      "Epoch   5 Batch  100/1077 - Train Accuracy: 0.7633, Validation Accuracy: 0.7695, Loss: 0.4037\n",
      "Epoch   5 Batch  200/1077 - Train Accuracy: 0.7875, Validation Accuracy: 0.7614, Loss: 0.4025\n",
      "Epoch   5 Batch  300/1077 - Train Accuracy: 0.7993, Validation Accuracy: 0.7525, Loss: 0.4129\n",
      "Epoch   5 Batch  400/1077 - Train Accuracy: 0.7594, Validation Accuracy: 0.7621, Loss: 0.4138\n",
      "Epoch   5 Batch  500/1077 - Train Accuracy: 0.7836, Validation Accuracy: 0.7599, Loss: 0.3726\n",
      "Epoch   5 Batch  600/1077 - Train Accuracy: 0.7783, Validation Accuracy: 0.7674, Loss: 0.3516\n",
      "Epoch   5 Batch  700/1077 - Train Accuracy: 0.8340, Validation Accuracy: 0.7781, Loss: 0.3412\n",
      "Epoch   5 Batch  800/1077 - Train Accuracy: 0.7898, Validation Accuracy: 0.7962, Loss: 0.3597\n",
      "Epoch   5 Batch  900/1077 - Train Accuracy: 0.8027, Validation Accuracy: 0.7912, Loss: 0.3662\n",
      "Epoch   5 Batch 1000/1077 - Train Accuracy: 0.7954, Validation Accuracy: 0.7930, Loss: 0.3301\n",
      "Epoch   6 Batch  100/1077 - Train Accuracy: 0.8098, Validation Accuracy: 0.8175, Loss: 0.3351\n",
      "Epoch   6 Batch  200/1077 - Train Accuracy: 0.8145, Validation Accuracy: 0.8089, Loss: 0.3262\n",
      "Epoch   6 Batch  300/1077 - Train Accuracy: 0.8183, Validation Accuracy: 0.8068, Loss: 0.3199\n",
      "Epoch   6 Batch  400/1077 - Train Accuracy: 0.8063, Validation Accuracy: 0.7994, Loss: 0.3371\n",
      "Epoch   6 Batch  500/1077 - Train Accuracy: 0.8305, Validation Accuracy: 0.7887, Loss: 0.3034\n",
      "Epoch   6 Batch  600/1077 - Train Accuracy: 0.7969, Validation Accuracy: 0.8072, Loss: 0.3123\n",
      "Epoch   6 Batch  700/1077 - Train Accuracy: 0.8645, Validation Accuracy: 0.8086, Loss: 0.2989\n",
      "Epoch   6 Batch  800/1077 - Train Accuracy: 0.8191, Validation Accuracy: 0.8153, Loss: 0.2970\n",
      "Epoch   6 Batch  900/1077 - Train Accuracy: 0.8316, Validation Accuracy: 0.8047, Loss: 0.3141\n",
      "Epoch   6 Batch 1000/1077 - Train Accuracy: 0.8352, Validation Accuracy: 0.8082, Loss: 0.2868\n",
      "Epoch   7 Batch  100/1077 - Train Accuracy: 0.8512, Validation Accuracy: 0.8182, Loss: 0.2878\n",
      "Epoch   7 Batch  200/1077 - Train Accuracy: 0.8480, Validation Accuracy: 0.8111, Loss: 0.2728\n",
      "Epoch   7 Batch  300/1077 - Train Accuracy: 0.8808, Validation Accuracy: 0.8317, Loss: 0.2774\n",
      "Epoch   7 Batch  400/1077 - Train Accuracy: 0.8285, Validation Accuracy: 0.8303, Loss: 0.2933\n",
      "Epoch   7 Batch  500/1077 - Train Accuracy: 0.8578, Validation Accuracy: 0.8455, Loss: 0.2543\n",
      "Epoch   7 Batch  600/1077 - Train Accuracy: 0.8638, Validation Accuracy: 0.8324, Loss: 0.2626\n",
      "Epoch   7 Batch  700/1077 - Train Accuracy: 0.8879, Validation Accuracy: 0.8285, Loss: 0.2535\n",
      "Epoch   7 Batch  800/1077 - Train Accuracy: 0.8465, Validation Accuracy: 0.8473, Loss: 0.2591\n",
      "Epoch   7 Batch  900/1077 - Train Accuracy: 0.8520, Validation Accuracy: 0.8491, Loss: 0.2723\n",
      "Epoch   7 Batch 1000/1077 - Train Accuracy: 0.8467, Validation Accuracy: 0.8356, Loss: 0.2390\n",
      "Epoch   8 Batch  100/1077 - Train Accuracy: 0.8648, Validation Accuracy: 0.8569, Loss: 0.2585\n",
      "Epoch   8 Batch  200/1077 - Train Accuracy: 0.8605, Validation Accuracy: 0.8590, Loss: 0.2461\n",
      "Epoch   8 Batch  300/1077 - Train Accuracy: 0.8943, Validation Accuracy: 0.8445, Loss: 0.2215\n",
      "Epoch   8 Batch  400/1077 - Train Accuracy: 0.8656, Validation Accuracy: 0.8558, Loss: 0.2615\n",
      "Epoch   8 Batch  500/1077 - Train Accuracy: 0.8922, Validation Accuracy: 0.8643, Loss: 0.2245\n",
      "Epoch   8 Batch  600/1077 - Train Accuracy: 0.8612, Validation Accuracy: 0.8668, Loss: 0.2377\n",
      "Epoch   8 Batch  700/1077 - Train Accuracy: 0.8977, Validation Accuracy: 0.8615, Loss: 0.2119\n",
      "Epoch   8 Batch  800/1077 - Train Accuracy: 0.8859, Validation Accuracy: 0.8580, Loss: 0.2172\n",
      "Epoch   8 Batch  900/1077 - Train Accuracy: 0.8758, Validation Accuracy: 0.8711, Loss: 0.2491\n",
      "Epoch   8 Batch 1000/1077 - Train Accuracy: 0.8787, Validation Accuracy: 0.8654, Loss: 0.2182\n",
      "Epoch   9 Batch  100/1077 - Train Accuracy: 0.8938, Validation Accuracy: 0.8786, Loss: 0.2090\n",
      "Epoch   9 Batch  200/1077 - Train Accuracy: 0.8621, Validation Accuracy: 0.8452, Loss: 0.2197\n",
      "Epoch   9 Batch  300/1077 - Train Accuracy: 0.9182, Validation Accuracy: 0.8665, Loss: 0.2013\n",
      "Epoch   9 Batch  400/1077 - Train Accuracy: 0.8953, Validation Accuracy: 0.8938, Loss: 0.2346\n",
      "Epoch   9 Batch  500/1077 - Train Accuracy: 0.9047, Validation Accuracy: 0.8612, Loss: 0.2004\n",
      "Epoch   9 Batch  600/1077 - Train Accuracy: 0.8992, Validation Accuracy: 0.8693, Loss: 0.2108\n",
      "Epoch   9 Batch  700/1077 - Train Accuracy: 0.9121, Validation Accuracy: 0.8594, Loss: 0.1776\n",
      "Epoch   9 Batch  800/1077 - Train Accuracy: 0.8945, Validation Accuracy: 0.8796, Loss: 0.1949\n",
      "Epoch   9 Batch  900/1077 - Train Accuracy: 0.9059, Validation Accuracy: 0.8622, Loss: 0.1947\n",
      "Epoch   9 Batch 1000/1077 - Train Accuracy: 0.8821, Validation Accuracy: 0.8807, Loss: 0.1800\n",
      "Model Trained and Saved\n"
     ]
    }
   ],
   "source": [
    "\"\"\"\n",
    "DON'T MODIFY ANYTHING IN THIS CELL\n",
    "\"\"\"\n",
    "def get_accuracy(target, logits):\n",
    "    \"\"\"\n",
    "    Calculate accuracy\n",
    "    \"\"\"\n",
    "    max_seq = max(target.shape[1], logits.shape[1])\n",
    "    if max_seq - target.shape[1]:\n",
    "        target = np.pad(\n",
    "            target,\n",
    "            [(0,0),(0,max_seq - target.shape[1])],\n",
    "            'constant')\n",
    "    if max_seq - logits.shape[1]:\n",
    "        logits = np.pad(\n",
    "            logits,\n",
    "            [(0,0),(0,max_seq - logits.shape[1])],\n",
    "            'constant')\n",
    "\n",
    "    return np.mean(np.equal(target, logits))\n",
    "\n",
    "# Split data to training and validation sets\n",
    "train_source = source_int_text[batch_size:]\n",
    "train_target = target_int_text[batch_size:]\n",
    "valid_source = source_int_text[:batch_size]\n",
    "valid_target = target_int_text[:batch_size]\n",
    "(valid_sources_batch, valid_targets_batch, valid_sources_lengths, valid_targets_lengths ) = next(get_batches(valid_source,\n",
    "                                                                                                             valid_target,\n",
    "                                                                                                             batch_size,\n",
    "                                                                                                             source_vocab_to_int['<PAD>'],\n",
    "                                                                                                             target_vocab_to_int['<PAD>']))                                                                                                  \n",
    "with tf.Session(graph=train_graph) as sess:\n",
    "    sess.run(tf.global_variables_initializer())\n",
    "\n",
    "    for epoch_i in range(epochs):\n",
    "        for batch_i, (source_batch, target_batch, sources_lengths, targets_lengths) in enumerate(\n",
    "                get_batches(train_source, train_target, batch_size,\n",
    "                            source_vocab_to_int['<PAD>'],\n",
    "                            target_vocab_to_int['<PAD>'])):\n",
    "\n",
    "            _, loss = sess.run(\n",
    "                [train_op, cost],\n",
    "                {input_data: source_batch,\n",
    "                 targets: target_batch,\n",
    "                 lr: learning_rate,\n",
    "                 target_sequence_length: targets_lengths,\n",
    "                 source_sequence_length: sources_lengths,\n",
    "                 keep_prob: keep_probability})\n",
    "\n",
    "\n",
    "            if batch_i % display_step == 0 and batch_i > 0:\n",
    "\n",
    "\n",
    "                batch_train_logits = sess.run(\n",
    "                    inference_logits,\n",
    "                    {input_data: source_batch,\n",
    "                     source_sequence_length: sources_lengths,\n",
    "                     target_sequence_length: targets_lengths,\n",
    "                     keep_prob: 1.0})\n",
    "\n",
    "\n",
    "                batch_valid_logits = sess.run(\n",
    "                    inference_logits,\n",
    "                    {input_data: valid_sources_batch,\n",
    "                     source_sequence_length: valid_sources_lengths,\n",
    "                     target_sequence_length: valid_targets_lengths,\n",
    "                     keep_prob: 1.0})\n",
    "\n",
    "                train_acc = get_accuracy(target_batch, batch_train_logits)\n",
    "\n",
    "                valid_acc = get_accuracy(valid_targets_batch, batch_valid_logits)\n",
    "\n",
    "                print('Epoch {:>3} Batch {:>4}/{} - Train Accuracy: {:>6.4f}, Validation Accuracy: {:>6.4f}, Loss: {:>6.4f}'\n",
    "                      .format(epoch_i, batch_i, len(source_int_text) // batch_size, train_acc, valid_acc, loss))\n",
    "\n",
    "    # Save Model\n",
    "    saver = tf.train.Saver()\n",
    "    saver.save(sess, save_path)\n",
    "    print('Model Trained and Saved')"
   ]
  },
  {
   "cell_type": "markdown",
   "metadata": {},
   "source": [
    "### Save Parameters\n",
    "Save the `batch_size` and `save_path` parameters for inference."
   ]
  },
  {
   "cell_type": "code",
   "execution_count": null,
   "metadata": {
    "collapsed": true
   },
   "outputs": [],
   "source": [
    "\"\"\"\n",
    "DON'T MODIFY ANYTHING IN THIS CELL\n",
    "\"\"\"\n",
    "# Save parameters for checkpoint\n",
    "helper.save_params(save_path)"
   ]
  },
  {
   "cell_type": "markdown",
   "metadata": {},
   "source": [
    "# Checkpoint"
   ]
  },
  {
   "cell_type": "code",
   "execution_count": null,
   "metadata": {
    "collapsed": true
   },
   "outputs": [],
   "source": [
    "\"\"\"\n",
    "DON'T MODIFY ANYTHING IN THIS CELL\n",
    "\"\"\"\n",
    "import tensorflow as tf\n",
    "import numpy as np\n",
    "import helper\n",
    "import problem_unittests as tests\n",
    "\n",
    "_, (source_vocab_to_int, target_vocab_to_int), (source_int_to_vocab, target_int_to_vocab) = helper.load_preprocess()\n",
    "load_path = helper.load_params()"
   ]
  },
  {
   "cell_type": "markdown",
   "metadata": {},
   "source": [
    "## Sentence to Sequence\n",
    "To feed a sentence into the model for translation, you first need to preprocess it.  Implement the function `sentence_to_seq()` to preprocess new sentences.\n",
    "\n",
    "- Convert the sentence to lowercase\n",
    "- Convert words into ids using `vocab_to_int`\n",
    " - Convert words not in the vocabulary, to the `<UNK>` word id."
   ]
  },
  {
   "cell_type": "code",
   "execution_count": null,
   "metadata": {
    "collapsed": true
   },
   "outputs": [],
   "source": [
    "def sentence_to_seq(sentence, vocab_to_int):\n",
    "    \"\"\"\n",
    "    Convert a sentence to a sequence of ids\n",
    "    :param sentence: String\n",
    "    :param vocab_to_int: Dictionary to go from the words to an id\n",
    "    :return: List of word ids\n",
    "    \"\"\"\n",
    "    # TODO: Implement Function\n",
    "    return None\n",
    "\n",
    "\n",
    "\"\"\"\n",
    "DON'T MODIFY ANYTHING IN THIS CELL THAT IS BELOW THIS LINE\n",
    "\"\"\"\n",
    "tests.test_sentence_to_seq(sentence_to_seq)"
   ]
  },
  {
   "cell_type": "markdown",
   "metadata": {},
   "source": [
    "## Translate\n",
    "This will translate `translate_sentence` from English to French."
   ]
  },
  {
   "cell_type": "code",
   "execution_count": null,
   "metadata": {
    "collapsed": true
   },
   "outputs": [],
   "source": [
    "translate_sentence = 'he saw a old yellow truck .'\n",
    "\n",
    "\n",
    "\"\"\"\n",
    "DON'T MODIFY ANYTHING IN THIS CELL\n",
    "\"\"\"\n",
    "translate_sentence = sentence_to_seq(translate_sentence, source_vocab_to_int)\n",
    "\n",
    "loaded_graph = tf.Graph()\n",
    "with tf.Session(graph=loaded_graph) as sess:\n",
    "    # Load saved model\n",
    "    loader = tf.train.import_meta_graph(load_path + '.meta')\n",
    "    loader.restore(sess, load_path)\n",
    "\n",
    "    input_data = loaded_graph.get_tensor_by_name('input:0')\n",
    "    logits = loaded_graph.get_tensor_by_name('predictions:0')\n",
    "    target_sequence_length = loaded_graph.get_tensor_by_name('target_sequence_length:0')\n",
    "    source_sequence_length = loaded_graph.get_tensor_by_name('source_sequence_length:0')\n",
    "    keep_prob = loaded_graph.get_tensor_by_name('keep_prob:0')\n",
    "\n",
    "    translate_logits = sess.run(logits, {input_data: [translate_sentence]*batch_size,\n",
    "                                         target_sequence_length: [len(translate_sentence)*2]*batch_size,\n",
    "                                         source_sequence_length: [len(translate_sentence)]*batch_size,\n",
    "                                         keep_prob: 1.0})[0]\n",
    "\n",
    "print('Input')\n",
    "print('  Word Ids:      {}'.format([i for i in translate_sentence]))\n",
    "print('  English Words: {}'.format([source_int_to_vocab[i] for i in translate_sentence]))\n",
    "\n",
    "print('\\nPrediction')\n",
    "print('  Word Ids:      {}'.format([i for i in translate_logits]))\n",
    "print('  French Words: {}'.format(\" \".join([target_int_to_vocab[i] for i in translate_logits])))\n"
   ]
  },
  {
   "cell_type": "markdown",
   "metadata": {},
   "source": [
    "## Imperfect Translation\n",
    "You might notice that some sentences translate better than others.  Since the dataset you're using only has a vocabulary of 227 English words of the thousands that you use, you're only going to see good results using these words.  For this project, you don't need a perfect translation. However, if you want to create a better translation model, you'll need better data.\n",
    "\n",
    "You can train on the [WMT10 French-English corpus](http://www.statmt.org/wmt10/training-giga-fren.tar).  This dataset has more vocabulary and richer in topics discussed.  However, this will take you days to train, so make sure you've a GPU and the neural network is performing well on dataset we provided.  Just make sure you play with the WMT10 corpus after you've submitted this project.\n",
    "## Submitting This Project\n",
    "When submitting this project, make sure to run all the cells before saving the notebook. Save the notebook file as \"dlnd_language_translation.ipynb\" and save it as a HTML file under \"File\" -> \"Download as\". Include the \"helper.py\" and \"problem_unittests.py\" files in your submission."
   ]
  }
 ],
 "metadata": {
  "anaconda-cloud": {},
  "kernelspec": {
   "display_name": "Python 3",
   "language": "python",
   "name": "python3"
  },
  "language_info": {
   "codemirror_mode": {
    "name": "ipython",
    "version": 3
   },
   "file_extension": ".py",
   "mimetype": "text/x-python",
   "name": "python",
   "nbconvert_exporter": "python",
   "pygments_lexer": "ipython3",
   "version": "3.5.3"
  }
 },
 "nbformat": 4,
 "nbformat_minor": 1
}
